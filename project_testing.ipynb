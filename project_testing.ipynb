{
 "cells": [
  {
   "cell_type": "code",
   "execution_count": 48,
   "id": "3f4cc662",
   "metadata": {},
   "outputs": [
    {
     "name": "stderr",
     "output_type": "stream",
     "text": [
      "[nltk_data] Downloading package wordnet to\n",
      "[nltk_data]     /Users/sameerdawani/nltk_data...\n",
      "[nltk_data]   Package wordnet is already up-to-date!\n"
     ]
    },
    {
     "data": {
      "text/plain": [
       "True"
      ]
     },
     "execution_count": 48,
     "metadata": {},
     "output_type": "execute_result"
    }
   ],
   "source": [
    "import pandas as pd\n",
    "import json\n",
    "import nltk\n",
    "from nltk.corpus import wordnet\n",
    "nltk.download('wordnet')\n"
   ]
  },
  {
   "cell_type": "code",
   "execution_count": 49,
   "id": "93ea346e",
   "metadata": {},
   "outputs": [],
   "source": [
    "df = pd.read_csv('data/billboard-lyrics-spotify.csv')"
   ]
  },
  {
   "cell_type": "code",
   "execution_count": 50,
   "id": "4d15e496",
   "metadata": {},
   "outputs": [
    {
     "data": {
      "text/plain": [
       "'theres a summer place where it may rain or storm yet im safe and warm for within that summer place your arms reach out to me and my heart is free from all care for it knows there are no gloomy skies when seen through the eyes of those who are blessed with love and the sweet secret of a summer place is that its anywhere when two people share all their hopes all their dreams all their love and the sweet secret of a summer place is that its anywhere when two people share all their hopes all their dreams all their love'"
      ]
     },
     "execution_count": 50,
     "metadata": {},
     "output_type": "execute_result"
    }
   ],
   "source": [
    "df[\"lyrics\"][0]"
   ]
  },
  {
   "cell_type": "code",
   "execution_count": 51,
   "id": "9da07419",
   "metadata": {},
   "outputs": [
    {
     "data": {
      "text/plain": [
       "2822"
      ]
     },
     "execution_count": 51,
     "metadata": {},
     "output_type": "execute_result"
    }
   ],
   "source": [
    "with open('data/words.json', 'r') as file:\n",
    "    bad_words = json.load(file)\n",
    "\n",
    "bad_words_df = pd.DataFrame(data)\n",
    "bad_words_df.size\n"
   ]
  },
  {
   "cell_type": "code",
   "execution_count": 52,
   "id": "132aba0d",
   "metadata": {},
   "outputs": [],
   "source": [
    "# Function to get synonyms from WordNet\n",
    "def get_synonyms(word):\n",
    "    synonyms = set()\n",
    "    for syn in wordnet.synsets(word):\n",
    "        for lemma in syn.lemmas():\n",
    "            synonyms.add(lemma.name())  # Add the synonym\n",
    "    return list(synonyms)"
   ]
  },
  {
   "cell_type": "code",
   "execution_count": 53,
   "id": "e13a9f5d",
   "metadata": {},
   "outputs": [
    {
     "data": {
      "text/plain": [
       "4762"
      ]
     },
     "execution_count": 53,
     "metadata": {},
     "output_type": "execute_result"
    }
   ],
   "source": [
    "# Function to expand bad words list by adding synonyms\n",
    "def expand_bad_words(bad_words):\n",
    "    expanded_bad_words = set(bad_words)  # Use set to avoid duplicates\n",
    "    \n",
    "    # For each word in the bad words list, get its synonyms and add them to the expanded list\n",
    "    for word in bad_words:\n",
    "        synonyms = get_synonyms(word)\n",
    "        expanded_bad_words.update(synonyms)  # Add synonyms to the set\n",
    "    \n",
    "    # Convert back to list and return\n",
    "    return list(expanded_bad_words)\n",
    "\n",
    "# Expand the bad words list\n",
    "expanded_bad_words = expand_bad_words(bad_words)\n",
    "len(expanded_bad_words)"
   ]
  },
  {
   "cell_type": "code",
   "execution_count": null,
   "id": "a6b55b7b",
   "metadata": {},
   "outputs": [],
   "source": []
  },
  {
   "cell_type": "code",
   "execution_count": null,
   "id": "0cd06dcd",
   "metadata": {},
   "outputs": [],
   "source": []
  }
 ],
 "metadata": {
  "kernelspec": {
   "display_name": "Python 3 (ipykernel)",
   "language": "python",
   "name": "python3"
  },
  "language_info": {
   "codemirror_mode": {
    "name": "ipython",
    "version": 3
   },
   "file_extension": ".py",
   "mimetype": "text/x-python",
   "name": "python",
   "nbconvert_exporter": "python",
   "pygments_lexer": "ipython3",
   "version": "3.11.5"
  }
 },
 "nbformat": 4,
 "nbformat_minor": 5
}
