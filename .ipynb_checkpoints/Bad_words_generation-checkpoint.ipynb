{
 "cells": [
  {
   "cell_type": "code",
   "execution_count": 61,
   "id": "3f4cc662",
   "metadata": {},
   "outputs": [
    {
     "name": "stderr",
     "output_type": "stream",
     "text": [
      "[nltk_data] Downloading package wordnet to\n",
      "[nltk_data]     /Users/sameerdawani/nltk_data...\n",
      "[nltk_data]   Package wordnet is already up-to-date!\n"
     ]
    }
   ],
   "source": [
    "import pandas as pd\n",
    "import json\n",
    "import nltk\n",
    "from nltk.corpus import wordnet\n",
    "nltk.download('wordnet')\n",
    "import re"
   ]
  },
  {
   "cell_type": "code",
   "execution_count": 62,
   "id": "93ea346e",
   "metadata": {},
   "outputs": [],
   "source": [
    "df = pd.read_csv('data/billboard-lyrics-spotify.csv')"
   ]
  },
  {
   "cell_type": "code",
   "execution_count": 63,
   "id": "4d15e496",
   "metadata": {},
   "outputs": [
    {
     "data": {
      "text/plain": [
       "'theres a summer place where it may rain or storm yet im safe and warm for within that summer place your arms reach out to me and my heart is free from all care for it knows there are no gloomy skies when seen through the eyes of those who are blessed with love and the sweet secret of a summer place is that its anywhere when two people share all their hopes all their dreams all their love and the sweet secret of a summer place is that its anywhere when two people share all their hopes all their dreams all their love'"
      ]
     },
     "execution_count": 63,
     "metadata": {},
     "output_type": "execute_result"
    }
   ],
   "source": [
    "df[\"lyrics\"][0]"
   ]
  },
  {
   "cell_type": "code",
   "execution_count": 64,
   "id": "9da07419",
   "metadata": {},
   "outputs": [
    {
     "data": {
      "text/plain": [
       "2822"
      ]
     },
     "execution_count": 64,
     "metadata": {},
     "output_type": "execute_result"
    }
   ],
   "source": [
    "with open('data/words.json', 'r') as file:\n",
    "    bad_words = json.load(file)\n",
    "\n",
    "bad_words_df = pd.DataFrame(data)\n",
    "bad_words_df.size\n"
   ]
  },
  {
   "cell_type": "code",
   "execution_count": 65,
   "id": "132aba0d",
   "metadata": {},
   "outputs": [],
   "source": [
    "# Function to get synonyms from WordNet\n",
    "def get_synonyms(word):\n",
    "    synonyms = set()\n",
    "    for syn in wordnet.synsets(word):\n",
    "        for lemma in syn.lemmas():\n",
    "            synonyms.add(lemma.name())  # Add the synonym\n",
    "    return list(synonyms)"
   ]
  },
  {
   "cell_type": "code",
   "execution_count": 66,
   "id": "e13a9f5d",
   "metadata": {},
   "outputs": [
    {
     "data": {
      "text/plain": [
       "4762"
      ]
     },
     "execution_count": 66,
     "metadata": {},
     "output_type": "execute_result"
    }
   ],
   "source": [
    "# Function to expand bad words list by adding synonyms\n",
    "def expand_bad_words(bad_words):\n",
    "    expanded_bad_words = set(bad_words)  # Use set to avoid duplicates\n",
    "    \n",
    "    # For each word in the bad words list, get its synonyms and add them to the expanded list\n",
    "    for word in bad_words:\n",
    "        synonyms = get_synonyms(word)\n",
    "        expanded_bad_words.update(synonyms)  # Add synonyms to the set\n",
    "    \n",
    "    # Convert back to list and return\n",
    "    return list(expanded_bad_words)\n",
    "\n",
    "# Expand the bad words list\n",
    "expanded_bad_words = expand_bad_words(bad_words)\n",
    "len(expanded_bad_words)"
   ]
  },
  {
   "cell_type": "code",
   "execution_count": 69,
   "id": "a6b55b7b",
   "metadata": {},
   "outputs": [
    {
     "data": {
      "text/plain": [
       "35812"
      ]
     },
     "execution_count": 69,
     "metadata": {},
     "output_type": "execute_result"
    }
   ],
   "source": [
    "# Function to dynamically generate variations for a list of words\n",
    "def generate_variations(words, rules=None, add_suffixes=None, replace_vowels=True):\n",
    "    # If no rules are provided, set default replacements\n",
    "    if rules is None:\n",
    "        rules = {'a': '@', 's': '$'}\n",
    "\n",
    "    # Default suffixes to add if not provided\n",
    "    if add_suffixes is None:\n",
    "        add_suffixes = ['s', 'es', 'ing', 'ed']\n",
    "\n",
    "    variations = set()\n",
    "\n",
    "    for word in words:\n",
    "        # Apply character replacement rules\n",
    "        for char, replacement in rules.items():\n",
    "            variations.add(word.replace(char, replacement))\n",
    "\n",
    "        # Add suffixes (plural, past tense, etc.)\n",
    "        for suffix in add_suffixes:\n",
    "            variations.add(word + suffix)\n",
    "\n",
    "        # Optionally replace vowels with '*'\n",
    "        if replace_vowels:\n",
    "            variations.add(re.sub(r'[aeiou]', '*', word))\n",
    "\n",
    "    return list(variations)\n",
    "\n",
    "\n",
    "# Expand the bad words list\n",
    "generated_variations = generate_variations(expanded_bad_words)\n",
    "expanded_bad_words.extend(generated_variations)\n",
    "len(expanded_bad_words)"
   ]
  },
  {
   "cell_type": "code",
   "execution_count": null,
   "id": "0cd06dcd",
   "metadata": {},
   "outputs": [],
   "source": []
  },
  {
   "cell_type": "code",
   "execution_count": null,
   "id": "6d3ee55b",
   "metadata": {},
   "outputs": [],
   "source": []
  }
 ],
 "metadata": {
  "kernelspec": {
   "display_name": "Python 3 (ipykernel)",
   "language": "python",
   "name": "python3"
  },
  "language_info": {
   "codemirror_mode": {
    "name": "ipython",
    "version": 3
   },
   "file_extension": ".py",
   "mimetype": "text/x-python",
   "name": "python",
   "nbconvert_exporter": "python",
   "pygments_lexer": "ipython3",
   "version": "3.11.5"
  }
 },
 "nbformat": 4,
 "nbformat_minor": 5
}
